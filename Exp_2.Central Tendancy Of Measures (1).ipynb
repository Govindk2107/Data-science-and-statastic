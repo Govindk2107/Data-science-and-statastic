{
 "cells": [
  {
   "cell_type": "code",
   "execution_count": 1,
   "id": "860b1101-b644-4014-9d1d-1ff130b35ed5",
   "metadata": {},
   "outputs": [],
   "source": [
    "#Exp_2"
   ]
  },
  {
   "cell_type": "code",
   "execution_count": 2,
   "id": "e8706dcc-21f2-4245-b1db-1bae64878167",
   "metadata": {},
   "outputs": [],
   "source": [
    "# Aim :Central Tendancy of Measures Mean,Median Mode"
   ]
  },
  {
   "cell_type": "code",
   "execution_count": 1,
   "id": "e4811ed1-95e3-4422-b210-a5ea31b1a2d7",
   "metadata": {},
   "outputs": [],
   "source": [
    "#Name:Govind R Khatile\n",
    "#Roll no:77\n",
    "#Sec:C\n",
    "#Subject:PE-1"
   ]
  },
  {
   "cell_type": "code",
   "execution_count": 10,
   "id": "15d68df5-6646-4d38-af1f-0a0f6795e131",
   "metadata": {},
   "outputs": [],
   "source": [
    "age={21,23,21,22,24,25,21,23,22,21}"
   ]
  },
  {
   "cell_type": "code",
   "execution_count": 11,
   "id": "dd1503b3-b7b7-4d93-a79e-4c21ebbe50d6",
   "metadata": {},
   "outputs": [
    {
     "data": {
      "text/plain": [
       "{21, 22, 23, 24, 25}"
      ]
     },
     "execution_count": 11,
     "metadata": {},
     "output_type": "execute_result"
    }
   ],
   "source": [
    "age"
   ]
  },
  {
   "cell_type": "code",
   "execution_count": 12,
   "id": "94cac77b-df68-428f-9695-68a6538d4b2f",
   "metadata": {},
   "outputs": [],
   "source": [
    "import statistics"
   ]
  },
  {
   "cell_type": "code",
   "execution_count": 13,
   "id": "4d2257f6-5bf7-4d34-8ca6-d044cda739c8",
   "metadata": {},
   "outputs": [],
   "source": [
    "a=statistics.mean(age)"
   ]
  },
  {
   "cell_type": "code",
   "execution_count": 14,
   "id": "67f09eb2-b2a6-41ca-83d3-4e3f74d7ee65",
   "metadata": {},
   "outputs": [
    {
     "data": {
      "text/plain": [
       "23"
      ]
     },
     "execution_count": 14,
     "metadata": {},
     "output_type": "execute_result"
    }
   ],
   "source": [
    "a"
   ]
  },
  {
   "cell_type": "code",
   "execution_count": 15,
   "id": "b35b9152-77ff-4ef6-bb50-9cec4463c6b9",
   "metadata": {},
   "outputs": [],
   "source": [
    "b=statistics.median(age)"
   ]
  },
  {
   "cell_type": "code",
   "execution_count": 16,
   "id": "ad966747-a72b-4349-a6fd-105164cb6413",
   "metadata": {},
   "outputs": [
    {
     "data": {
      "text/plain": [
       "23"
      ]
     },
     "execution_count": 16,
     "metadata": {},
     "output_type": "execute_result"
    }
   ],
   "source": [
    "b"
   ]
  },
  {
   "cell_type": "code",
   "execution_count": 17,
   "id": "a548b094-782d-43aa-8516-5c98e6b69cc9",
   "metadata": {},
   "outputs": [],
   "source": [
    "c=statistics.mode(age)"
   ]
  },
  {
   "cell_type": "code",
   "execution_count": 24,
   "id": "411e0dfc-0154-4132-a05e-887eecb52852",
   "metadata": {},
   "outputs": [
    {
     "data": {
      "text/plain": [
       "21"
      ]
     },
     "execution_count": 24,
     "metadata": {},
     "output_type": "execute_result"
    }
   ],
   "source": [
    "c"
   ]
  },
  {
   "cell_type": "markdown",
   "id": "33e8a6fc-4b6b-41b4-87ad-a50c5a4b53b1",
   "metadata": {},
   "source": [
    "# Performing Central Tendancy Of Measure Using Numpy"
   ]
  },
  {
   "cell_type": "code",
   "execution_count": 13,
   "id": "9ecc62ba-c8d0-4a33-9185-8dc667a87074",
   "metadata": {},
   "outputs": [],
   "source": [
    "import numpy as np\n",
    "x=np.array([1,2,3,4,5,6,2,3,5,6])"
   ]
  },
  {
   "cell_type": "code",
   "execution_count": 14,
   "id": "8a73f28f-1046-484e-95bb-05133a97a380",
   "metadata": {},
   "outputs": [
    {
     "data": {
      "text/plain": [
       "array([1, 2, 3, 4, 5, 6, 2, 3, 5, 6])"
      ]
     },
     "execution_count": 14,
     "metadata": {},
     "output_type": "execute_result"
    }
   ],
   "source": [
    "x"
   ]
  },
  {
   "cell_type": "code",
   "execution_count": 15,
   "id": "51dd31df-968e-4268-9f99-d16511b1111c",
   "metadata": {},
   "outputs": [
    {
     "name": "stdout",
     "output_type": "stream",
     "text": [
      "3.7\n"
     ]
    }
   ],
   "source": [
    "print(np.mean(x))"
   ]
  },
  {
   "cell_type": "code",
   "execution_count": 16,
   "id": "3749541f-c4e3-4381-95ee-e2f13e86bbc6",
   "metadata": {},
   "outputs": [
    {
     "name": "stdout",
     "output_type": "stream",
     "text": [
      "3.5\n"
     ]
    }
   ],
   "source": [
    "print(np.median(x))"
   ]
  },
  {
   "cell_type": "markdown",
   "id": "19cb5c85-e058-4fb6-92e3-77862cc6486e",
   "metadata": {},
   "source": [
    "# Performing Central Tendancy Of Measures Using Scipy"
   ]
  },
  {
   "cell_type": "code",
   "execution_count": 25,
   "id": "e701698d-f12a-4fd2-8330-48399c49bf61",
   "metadata": {},
   "outputs": [],
   "source": [
    "from scipy import stats"
   ]
  },
  {
   "cell_type": "code",
   "execution_count": 26,
   "id": "97e0c2c3-fc0f-40fa-bbd1-0e34b13b0945",
   "metadata": {},
   "outputs": [
    {
     "name": "stdout",
     "output_type": "stream",
     "text": [
      "3.0\n"
     ]
    }
   ],
   "source": [
    "print(np.median(x))"
   ]
  },
  {
   "cell_type": "code",
   "execution_count": 28,
   "id": "67724b50-8d6a-433a-b8ca-9c3f3e0acc2d",
   "metadata": {},
   "outputs": [
    {
     "name": "stdout",
     "output_type": "stream",
     "text": [
      "1.4937887931959075\n"
     ]
    }
   ],
   "source": [
    "print(np.std(x))"
   ]
  },
  {
   "cell_type": "code",
   "execution_count": 29,
   "id": "ffb9977e-315e-4ddb-9259-a2e6929a5b97",
   "metadata": {},
   "outputs": [
    {
     "name": "stdout",
     "output_type": "stream",
     "text": [
      "Standard Deviation: 5.237229365663817\n"
     ]
    }
   ],
   "source": [
    "from scipy import stats\n",
    "\n",
    "data = [10, 12, 23, 23, 16, 23, 21, 16]\n",
    "\n",
    "std_dev = stats.tstd(data)\n",
    "print(\"Standard Deviation:\", std_dev)\n"
   ]
  },
  {
   "cell_type": "code",
   "execution_count": null,
   "id": "4ff49df7-ada8-49de-9f95-6412675e4eda",
   "metadata": {},
   "outputs": [],
   "source": []
  }
 ],
 "metadata": {
  "kernelspec": {
   "display_name": "Python 3 (ipykernel)",
   "language": "python",
   "name": "python3"
  },
  "language_info": {
   "codemirror_mode": {
    "name": "ipython",
    "version": 3
   },
   "file_extension": ".py",
   "mimetype": "text/x-python",
   "name": "python",
   "nbconvert_exporter": "python",
   "pygments_lexer": "ipython3",
   "version": "3.13.5"
  }
 },
 "nbformat": 4,
 "nbformat_minor": 5
}
